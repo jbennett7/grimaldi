{
 "cells": [
  {
   "cell_type": "markdown",
   "metadata": {},
   "source": [
    "# The Rules of Sum and Product"
   ]
  },
  {
   "cell_type": "markdown",
   "metadata": {},
   "source": [
    "## The Rule of Sum\n",
    "If a first task can be performed in $m$ ways, while a second task can be performed in $n$ ways, and the two tasks cannot be performed simultaneously, then performing either task can be accomplished in any one of $m + n$ ways."
   ]
  },
  {
   "cell_type": "markdown",
   "metadata": {},
   "source": [
    "### EXAMPLE 1.1\n",
    "If you were to choose a new pet from among $20$ different cats and $30$ different dogs, a person can choose between $20 + 30 = 50$ different cats or dogs."
   ]
  },
  {
   "cell_type": "markdown",
   "metadata": {},
   "source": [
    "### Example 1.2\n",
    "This rule applies to more than just two tasks as long as no two tasks can be done simultaneously. If you were to choose a new pet from among $20$ different cats, $30$ different dogs, and $15$ different birds, then you would have $20 + 30 + 15 = 65$ different animals to \n",
    "choose from."
   ]
  },
  {
   "cell_type": "markdown",
   "metadata": {},
   "source": [
    "### Example 1.3\n",
    "Two companies owned the rights to sell the $20$ different cats and these rights may overlap. If company A offers to sell you one of three of these cats, and the other company, company B, offers to sell you one of five of these cats. Then, if $n$ denotes the maximum number of different cats that the two companies are offering, you will have a choice between $5 \\leq n \\leq 8$ cats."
   ]
  },
  {
   "cell_type": "markdown",
   "metadata": {},
   "source": [
    "## The Rule of Product\n",
    "If a procedure can be broken down into first and second stages, and if there are *m* possible outcomes for the first stage and if, for each of these outcomes, there are *n* possible outcomes for the second stage, then the total procedure can be carried out, in the designated order, in *mn* ways. This rule is also referred to as the *principle of choice*."
   ]
  },
  {
   "cell_type": "markdown",
   "metadata": {},
   "source": [
    "### Example 1.4\n",
    "A company forms two different committees for determining the outcome of an expansion. Committee A consists of five members, and committee B consists of seven members. If you need to meet with at least one member of each committee to determine the status of the expansion, then by the rule of poduct, you can select one member from each committee in $5 \\times 7 = 35$ ways."
   ]
  },
  {
   "cell_type": "markdown",
   "metadata": {},
   "source": [
    "### Example 1.5\n",
    "If a play house has an opening for both a male and female lead role and has six men and eight women auditioning for those roles, then the play house has $6 \\times 8 = 48$ different ways to cast the lead roles."
   ]
  },
  {
   "cell_type": "markdown",
   "metadata": {},
   "source": [
    "### Example 1.6\n",
    "Here various extensions of the rule are illustrated by considering the manufacture of license plates consisting of two letters followed by four digits.\n",
    "\n",
    "  1. If no letter or digit can be repeated, there are $26 \\times 25 \\times 10 \\times 9 \\times 8 \\times 7 = 3,276,000$ different possible plates.\n",
    "  2. With repetitions of letters and digits allwed, $26 \\times 26 \\times 10 \\times 10 \\times 10 \\times 10 = 6,760,000$.\n",
    "  3. If repetitions are allowed, as in part (b), we can determine the number of plates with only vowels (A, E, I, O, U) and even digits (0 is considered even): $5 \\times 5 \\times 5 \\times 5 \\times 5 \\times \\times 5 = 15,625$"
   ]
  }
 ],
 "metadata": {
  "kernelspec": {
   "display_name": "R",
   "language": "R",
   "name": "ir"
  },
  "language_info": {
   "codemirror_mode": "r",
   "file_extension": ".r",
   "mimetype": "text/x-r-source",
   "name": "R",
   "pygments_lexer": "r",
   "version": "3.6.3"
  }
 },
 "nbformat": 4,
 "nbformat_minor": 4
}
