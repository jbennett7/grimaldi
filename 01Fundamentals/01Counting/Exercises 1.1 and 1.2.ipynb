{
 "cells": [
  {
   "cell_type": "markdown",
   "id": "greatest-singer",
   "metadata": {},
   "source": [
    "# Exercises 1.1 and 1.2"
   ]
  },
  {
   "cell_type": "markdown",
   "id": "colonial-ceremony",
   "metadata": {},
   "source": [
    "##### 1. During a local campaign, eight Republican and five Democratic candidates are nominated for president of the school board."
   ]
  },
  {
   "cell_type": "markdown",
   "id": "therapeutic-physiology",
   "metadata": {},
   "source": [
    "  a) If the president is to be one of these candidates, how many possibilities are there for the eventual winner?"
   ]
  },
  {
   "cell_type": "code",
   "execution_count": 21,
   "id": "published-calendar",
   "metadata": {},
   "outputs": [
    {
     "name": "stdout",
     "output_type": "stream",
     "text": [
      "[1] \"13 possibilites for a winner.\"\n"
     ]
    }
   ],
   "source": [
    "# Rule of Sum\n",
    "ros <- 8 + 5\n",
    "print( paste(ros, \"possibilites for a winner.\"))"
   ]
  },
  {
   "cell_type": "markdown",
   "id": "shared-oliver",
   "metadata": {},
   "source": [
    "  b) How many possibilities exist for a pair of candidates (one from each party) to oppose each other for the eventual election?"
   ]
  },
  {
   "cell_type": "code",
   "execution_count": 22,
   "id": "searching-cream",
   "metadata": {},
   "outputs": [
    {
     "name": "stdout",
     "output_type": "stream",
     "text": [
      "[1] \"40 different election ways.\"\n"
     ]
    }
   ],
   "source": [
    "# Rule of Product\n",
    "rop <- 8 * 5\n",
    "print( paste (rop, \"different election ways.\"))"
   ]
  },
  {
   "cell_type": "markdown",
   "id": "floppy-fountain",
   "metadata": {},
   "source": [
    "  c) Which counting principle is used in part (a)? in part (b)? "
   ]
  },
  {
   "cell_type": "markdown",
   "id": "civilian-particle",
   "metadata": {},
   "source": [
    "##### 3. Buick automobiles come in four models, 12 colors, three engine sizes, and two transmission types."
   ]
  },
  {
   "cell_type": "markdown",
   "id": "conservative-complaint",
   "metadata": {},
   "source": [
    "  a) How many distinct Buicks can be manufactured?"
   ]
  },
  {
   "cell_type": "code",
   "execution_count": 23,
   "id": "excessive-stake",
   "metadata": {},
   "outputs": [
    {
     "name": "stdout",
     "output_type": "stream",
     "text": [
      "[1] \"288 different Buicks.\"\n"
     ]
    }
   ],
   "source": [
    "# Rule of Product\n",
    "models <- 4; colors <- 12; engines <- 3; transmission_types <- 2\n",
    "rop <- models * colors * engines * transmission_types\n",
    "print( paste( rop, \"different Buicks.\"))"
   ]
  },
  {
   "cell_type": "markdown",
   "id": "ordinary-montgomery",
   "metadata": {},
   "source": [
    "  b) If one of the available colors is blue, how many different blue Buicks can be manufactured?"
   ]
  },
  {
   "cell_type": "code",
   "execution_count": 25,
   "id": "junior-criterion",
   "metadata": {},
   "outputs": [
    {
     "name": "stdout",
     "output_type": "stream",
     "text": [
      "[1] \"24 different blue Buicks.\"\n"
     ]
    }
   ],
   "source": [
    "# Rule of Product\n",
    "colors <- 1 # blue\n",
    "rop <- models * colors * engines * transmission_types\n",
    "print (paste (rop, \"different blue Buicks.\"))"
   ]
  },
  {
   "cell_type": "markdown",
   "id": "settled-sending",
   "metadata": {},
   "source": [
    "##### 4a. The board of directors of a pharmaceutical corporation has 10 members. An upcoming stockholders' meeting is scheduled to approve a new slate of company officers (chosen from the 10 board members). How many different slates consisting of a president, vice president, secretary, and treasurer can the board present to the stockholders for their approval?"
   ]
  },
  {
   "cell_type": "code",
   "execution_count": 27,
   "id": "cardiovascular-marks",
   "metadata": {},
   "outputs": [
    {
     "name": "stdout",
     "output_type": "stream",
     "text": [
      "[1] \"5040 different slates can be presented for stockholder approval.\"\n"
     ]
    }
   ],
   "source": [
    "# Number of permutations of size 4\n",
    "offices <- 4\n",
    "print(paste( factorial(10) / factorial(10 - offices),\n",
    "            \"different slates can be presented for stockholder approval.\"))"
   ]
  },
  {
   "cell_type": "markdown",
   "id": "protecting-reaction",
   "metadata": {},
   "source": [
    "##### 4b. Three members of the board of directors [from part (a)] are physicians. How many slates from part (a) have"
   ]
  },
  {
   "cell_type": "markdown",
   "id": "aging-choir",
   "metadata": {},
   "source": [
    "  i) a physician nominated for the presidency?"
   ]
  },
  {
   "cell_type": "code",
   "execution_count": 37,
   "id": "wrong-reynolds",
   "metadata": {},
   "outputs": [
    {
     "name": "stdout",
     "output_type": "stream",
     "text": [
      "[1] \"1680 different slates if the president has to be a physician.\"\n"
     ]
    }
   ],
   "source": [
    "print(paste(factorial(8) / factorial(8 - offices),\n",
    "           \"different slates if the president has to be a physician.\"))"
   ]
  },
  {
   "cell_type": "markdown",
   "id": "matched-toolbox",
   "metadata": {},
   "source": [
    "  ii) exactly one physician appearing on the slate?"
   ]
  },
  {
   "cell_type": "code",
   "execution_count": 38,
   "id": "considered-former",
   "metadata": {},
   "outputs": [],
   "source": [
    "#print(paste())"
   ]
  },
  {
   "cell_type": "markdown",
   "id": "suitable-render",
   "metadata": {},
   "source": [
    "##### 5. While on a Saturday shopping spree Jennifer and Tiffany witnessed two men driving away from the front of a jewelry shop, just before a burglar alarm started to sound. Although everything happened rather quickly, when the two youn ladies were questioned they were able to give the police the following information about the license plate (which consisted of two letters followed by four digits) on the getaway car. Tiffany was sure that the second letter on the plate was either an O or a Q and the last digit was either a 3 or an 8. Jennifer told the investigator that the first letter on the plate was either a C or a G and that the first digit was definitely a 7. How many different license plates will the police have to check out?"
   ]
  },
  {
   "cell_type": "code",
   "execution_count": null,
   "id": "reduced-corporation",
   "metadata": {},
   "outputs": [],
   "source": []
  },
  {
   "cell_type": "markdown",
   "id": "automated-support",
   "metadata": {},
   "source": [
    "##### 6. To raise money for a new municipal pool, the chamber of commerce in a certain city sponsors a race. Each participant pays a 5 dollar entrance fee and has a chance to win one of the different-sized trophies that are to be awarded to the first eight runners who finish."
   ]
  },
  {
   "cell_type": "markdown",
   "id": "uniform-diana",
   "metadata": {},
   "source": [
    "  a) If 30 people enter the race, in how many ways will it be possible to award the trophies?"
   ]
  },
  {
   "cell_type": "code",
   "execution_count": null,
   "id": "honest-event",
   "metadata": {},
   "outputs": [],
   "source": []
  },
  {
   "cell_type": "markdown",
   "id": "radical-engagement",
   "metadata": {},
   "source": [
    "  b) If Roberta and Candice are two participants in the race, in how many ways can the trophies be awarded with these two runners among the top three?"
   ]
  },
  {
   "cell_type": "code",
   "execution_count": null,
   "id": "parallel-poker",
   "metadata": {},
   "outputs": [],
   "source": []
  },
  {
   "cell_type": "markdown",
   "id": "running-reform",
   "metadata": {},
   "source": [
    "##### 7. A certain \"Burger Joint\" advertises that a customer can have his or her hamburger with or without any or all of the following: catsup, mustard, mayonnaise, lettuce, tomato, onion, pickle, cheese, or mushrooms. How many different kinds of hamberger orders are possible?"
   ]
  },
  {
   "cell_type": "code",
   "execution_count": null,
   "id": "micro-davis",
   "metadata": {},
   "outputs": [],
   "source": []
  },
  {
   "cell_type": "markdown",
   "id": "steady-patrick",
   "metadata": {},
   "source": [
    "##### 8. Matthew works as a computer operator at a small university. One evening he finds that 12 computer programs have been submitted earlier that day for batch processing. In how many ways can Matthew order the processing of these programs if"
   ]
  },
  {
   "cell_type": "markdown",
   "id": "tough-facility",
   "metadata": {},
   "source": [
    "  a) there are no restrictions?"
   ]
  },
  {
   "cell_type": "code",
   "execution_count": null,
   "id": "personalized-printing",
   "metadata": {},
   "outputs": [],
   "source": []
  },
  {
   "cell_type": "markdown",
   "id": "horizontal-eligibility",
   "metadata": {},
   "source": [
    "  b) he considers four of the programs higher in priority than the other eight and wants to process those four first?"
   ]
  },
  {
   "cell_type": "code",
   "execution_count": null,
   "id": "respiratory-handbook",
   "metadata": {},
   "outputs": [],
   "source": []
  },
  {
   "cell_type": "markdown",
   "id": "social-director",
   "metadata": {},
   "source": [
    "  c) he first separates the programs into four of top priority, five of lesser priority, and three of least priority, and he wishes to process the 12 programs in such a way that the top-priority programs are processed first and the three programs of least priority are processed last?"
   ]
  },
  {
   "cell_type": "code",
   "execution_count": null,
   "id": "czech-opportunity",
   "metadata": {},
   "outputs": [],
   "source": []
  },
  {
   "cell_type": "markdown",
   "id": "genuine-shanghai",
   "metadata": {},
   "source": [
    "##### 9. Patter's Pastry Parlor offers eight different kinds of pastry and six different kinds of muffins. In addition to bakery items one can purchase small, medium, or large containers of the following beverages: coffee (black, with cream, with sugar, or with cream and sugar), tea (plain, with cream, with sugar, with cream and sugar, with lemon, or with lemon and sugar), hot cocoa, and orange juice. When Carol comes to Patter's, in how many ways can she order"
   ]
  },
  {
   "cell_type": "markdown",
   "id": "twelve-fifteen",
   "metadata": {},
   "source": [
    "  a) one bakery item and one medium-sized beverage for herself?"
   ]
  },
  {
   "cell_type": "code",
   "execution_count": null,
   "id": "baking-theory",
   "metadata": {},
   "outputs": [],
   "source": []
  },
  {
   "cell_type": "markdown",
   "id": "ordered-catch",
   "metadata": {},
   "source": [
    "  b) one bakery item and one container of coffee for herself and one muffin and one container of tea for her boss Ms. Didio?"
   ]
  },
  {
   "cell_type": "code",
   "execution_count": null,
   "id": "cheap-curve",
   "metadata": {},
   "outputs": [],
   "source": []
  },
  {
   "cell_type": "markdown",
   "id": "covered-general",
   "metadata": {},
   "source": [
    "  c) one piece of pastry and one container of tea for herself, one muffin and a container of orange juice for Ms. Didio, and one bakery item and one container of coffee for each of her two assistants, Mr. Talbot and Mrs. Gillis?"
   ]
  },
  {
   "cell_type": "code",
   "execution_count": null,
   "id": "electrical-course",
   "metadata": {},
   "outputs": [],
   "source": []
  },
  {
   "cell_type": "markdown",
   "id": "loaded-soldier",
   "metadata": {},
   "source": [
    "##### 10. Pamela has 15 different books. In how many ways can she place her books on two shelves so that there is at least one book on each shelf? (Consider the books in each arrangement to be stacked one next to the other, with the first book on each shelf at the left of the shelf.)"
   ]
  },
  {
   "cell_type": "code",
   "execution_count": null,
   "id": "better-filling",
   "metadata": {},
   "outputs": [],
   "source": []
  }
 ],
 "metadata": {
  "kernelspec": {
   "display_name": "R",
   "language": "R",
   "name": "ir"
  },
  "language_info": {
   "codemirror_mode": "r",
   "file_extension": ".r",
   "mimetype": "text/x-r-source",
   "name": "R",
   "pygments_lexer": "r",
   "version": "3.6.3"
  }
 },
 "nbformat": 4,
 "nbformat_minor": 5
}
