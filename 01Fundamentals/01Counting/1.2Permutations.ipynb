{
 "cells": [
  {
   "cell_type": "markdown",
   "metadata": {},
   "source": [
    "# Permutations"
   ]
  },
  {
   "cell_type": "markdown",
   "metadata": {},
   "source": [
    "An application of the rule of product is counting linear arrangements of objects. These arrangements are often called *permutations* when the objects are distinct."
   ]
  },
  {
   "cell_type": "markdown",
   "metadata": {},
   "source": [
    "### Example 1.9\n",
    "In a class of ten students, five are to be chosen and seated in a row for a picture. How many such linear arrangements are possible?\n",
    "\n",
    "The keyword here is *arrangement*, which designates the importance of *order*.\n",
    "\n",
    "In order to answer the question, we consider the positions and possible numbers of students we can choose from in order to fill each position:\n",
    "\n",
    "$$\n",
    "\\begin{align}\n",
    "\\underbrace{10}_\\text{1st position}\\ \\times\\ \n",
    "\\underbrace{9}_\\text{2nd position}\\ \\times\\ \n",
    "\\underbrace{8}_\\text{3rd position}\\ \\times\\ \n",
    "\\underbrace{7}_\\text{4th position}\\ \\times\\ \n",
    "\\underbrace{6}_\\text{5th position}\n",
    "\\end{align}\n",
    "$$"
   ]
  },
  {
   "cell_type": "markdown",
   "metadata": {},
   "source": [
    "This yields a total of $30,240$ possible arrangements of five students selected from the class of 10."
   ]
  },
  {
   "cell_type": "markdown",
   "metadata": {},
   "source": [
    "### Definition 1.1\n",
    "For an integer $n \\geq 0$, $n$ *factorial* (denoted $n!$) is defined by:\n",
    "\n",
    "$$\n",
    "0! = 1,\n",
    "$$\n",
    "\n",
    "$$\n",
    "n! = (n)(n-1)(n-2)...(3)(2)91),\\ \\ \\ \\ \\ for\\ n \\geq 1,\n",
    "$$"
   ]
  },
  {
   "cell_type": "markdown",
   "metadata": {},
   "source": [
    "### Definition 1.2\n",
    "Given a collection of $n$ distinct objects, any (linear) arrangement of these objects is called a *permutation* of the collection."
   ]
  },
  {
   "cell_type": "markdown",
   "metadata": {},
   "source": [
    "In general, if there are $n$ distinct objects, denoted $a_1, a_2, ..., a_n$, and $r$ is an integer, with $1 \\leq r \\leq n$, then by the rule of product, the number of permutaitons of size $r$ for the $n$ objects is\n",
    "\n",
    "$$\n",
    "\\begin{align*}\n",
    "n\\ \\times\\ (n - 1)\\ \\times\\ (n - 2)\\ \\times\\ ...\\ \\times\\ (n - r + 1)\\ =\n",
    "\\end{align*}\n",
    "$$\n",
    "\n",
    "$$\n",
    "\\begin{align*}\n",
    "(n)(n - 1)(n - 2)\\ ...\\ (n - r + 1)\\ \\times\\ \\frac{(n - r)(n - r - 1)\\ ...\\ (3)(2)(1)}{(n - r)(n - r - 1)\\ ...\\ (3)(2)(1)} = \\frac{n!}{(n - r)!}\n",
    "\\end{align*}\n",
    "$$"
   ]
  },
  {
   "cell_type": "markdown",
   "metadata": {},
   "source": [
    "We denote this number by $P(n, r)$. For $r = 0$, $P(n, 0) = 1 = \\frac{n!}{(n - 0)!}$, so $P(n, r) = \\frac{n!}{(n - r)!}$ holds for all $0 \\leq r \\leq n$."
   ]
  },
  {
   "cell_type": "markdown",
   "metadata": {},
   "source": [
    "### Example 1.10\n",
    "The number of permutations of the letters in the word COMPUTER is $8!$. If only five of the letters are used, the number of permutations (of size $5$) is $P(8, 5) = \\frac{8!}{(8 - 5)!} = \\frac{8!}{3!} = 6720$. If repetitions of letters are allowed, the number of possible 12-letter sequences is $8^{12} = 6.872 \\times 10^{10}$."
   ]
  },
  {
   "cell_type": "markdown",
   "metadata": {},
   "source": [
    "### Example 1.11\n",
    "Unlike the previous example, the number of (linear) arrangements of the four letters in BALL is $12$, not $4!$ ($=\\ 24$). The reason is that we do not have four distinct letters to arrange."
   ]
  },
  {
   "cell_type": "markdown",
   "metadata": {},
   "source": [
    "With BALL since we have 2 letter Ls, we modify the equation:\n",
    "\n",
    "$$\n",
    "\\begin{align*}\n",
    "\\frac{4!}{2!} = 12\n",
    "\\end{align*}\n",
    "$$"
   ]
  },
  {
   "cell_type": "markdown",
   "metadata": {},
   "source": [
    "### Example 1.12\n",
    "In a similar situation, we now consider the arrangements of all six letters in PEPPER.\n",
    "\n",
    "There are $3!\\ =\\ 6$ arrangements with the P's distinguished for each arrangement in which the P's are not distinguished. The E's are $2!$. This corresponds to the following number of arrangements:\n",
    "\n",
    "$$\n",
    "\\begin{align}\n",
    "\\frac{6!}{(2!)(3!)} = 60\n",
    "\\end{align}\n",
    "$$"
   ]
  },
  {
   "cell_type": "markdown",
   "metadata": {},
   "source": [
    "### Example 1.13\n",
    "The MASSASAUGA is a brown and white venomous snake indigenous to North America. Arranging all of the letters in MASSASAUGA, we find that there are:\n",
    "\n",
    "$$\n",
    "\\begin{align}\n",
    "\\frac{10!}{4!\\ 3!\\ 1!\\ 1!\\ 1!} = 25,200\n",
    "\\end{align}\n",
    "$$\n",
    "\n",
    "possible arrangements. Among these are:\n",
    "\n",
    "$$\n",
    "\\begin{align}\n",
    "\\frac{7!}{3!\\ 1!\\ 1!\\ 1!\\ 1!} = 840\n",
    "\\end{align}\n",
    "$$\n",
    "\n",
    "in which all four A's are together. To get this last result, we considered all arrangements of the seven symbols AAA (one symbol), S, S, S, M, U, G."
   ]
  },
  {
   "cell_type": "markdown",
   "metadata": {},
   "source": [
    "### Example 1.14\n",
    "Determine the number of (staircase) paths in the $xy$-plane from $(2, 1)$ to $(7, 4)$, where each such path is made up of individual steps going one unit to the right (R) or one unit upward (U).\n",
    "\n",
    "The number of moves to the right (R) is $7 - 2 = 5$. The number of moves up (U) is $4 - 1 = 3$. Therefore, each path consists of $5$ moves to the right and $3$ moves up. The number of arrangements for the five R's and three U's, is $\\frac{8!}{(5!\\ 3!)} = 56$. "
   ]
  },
  {
   "cell_type": "markdown",
   "metadata": {},
   "source": [
    "### Example 1.15\n",
    "We now do something a bit more abstract and prove that if $n$ and $k$ are positive integers with $n = 2k$, then $\\frac{n!}{2^k}$ is an integer. Because our argument relies on counting, it is an example of *combinatorial proof*.\n",
    "\n",
    "Consider the $n$ symbols $x_1,\\ x_1,\\ x_2,\\ x_2,\\ ...,\\ x_k,\\ x_k$. The number of ways in which we can arrange all of these $n = 2k$ symbols is an integer that equals\n",
    "\n",
    "$$\n",
    "\\begin{align}\n",
    "\\underbrace{\\frac{n!}{2!\\ 2!\\ ...\\ 2!}}_\\text{k factors of 2!} = \\frac{n!}{2^k}\n",
    "\\end{align}\n",
    "$$"
   ]
  },
  {
   "cell_type": "markdown",
   "metadata": {},
   "source": [
    "### Example 1.16\n",
    "If six people, designated as A, B,...,F, are seated about a round table, how many different circular arrangements are possible, if arrangements are considered the same when one can be obtained from the other by rotation?\n",
    "\n",
    "Since there are six circular arrangements $C$ that are the same except rotated, we can equate the number of linear arrangements $L$ to the number of circular arrangements: $6 \\times \\text{(Number of circular arrangements of A, B,...,F)}\\ =\\ \\text{(Number of linear arrangements of A, B,..., F)} = 6!.$\n",
    "\n",
    "So the number of linear arrangements are: $\\frac{6!}{6} = 5! = 120$ arrangements of A, B,..., F around the circular table."
   ]
  },
  {
   "cell_type": "markdown",
   "metadata": {},
   "source": [
    "### Example 1.17\n",
    "Suppose now that the six people in the previous example are three married couples and that A, B, and C are the females. We want to arrange the six people around the table so that the sexes alternate. (Once again, arrangements are considered identical if one can be obtained from the other by rotation.)"
   ]
  }
 ],
 "metadata": {
  "kernelspec": {
   "display_name": "R",
   "language": "R",
   "name": "ir"
  },
  "language_info": {
   "codemirror_mode": "r",
   "file_extension": ".r",
   "mimetype": "text/x-r-source",
   "name": "R",
   "pygments_lexer": "r",
   "version": "3.6.3"
  }
 },
 "nbformat": 4,
 "nbformat_minor": 4
}
